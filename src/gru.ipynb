{
 "cells": [
  {
   "cell_type": "markdown",
   "metadata": {},
   "source": [
    "GRU Implementation"
   ]
  },
  {
   "cell_type": "code",
   "execution_count": 5,
   "metadata": {},
   "outputs": [],
   "source": [
    "# --- we are doing GRU neural network ---\n",
    "import torch                # pytorch\n",
    "import torch.nn as nn       # neural network\n",
    "import torch.optim as optim # optimizer\n",
    "from torch.utils.data import DataLoader\n",
    "# progress bar\n",
    "from tqdm import tqdm\n",
    "# --- end of imports ---"
   ]
  },
  {
   "cell_type": "code",
   "execution_count": 6,
   "metadata": {},
   "outputs": [
    {
     "name": "stdout",
     "output_type": "stream",
     "text": [
      "Device:  mps\n"
     ]
    }
   ],
   "source": [
    "# cuda or mps or cpu for acceleration\n",
    "if torch.cuda.is_available():\n",
    "    device = torch.device(\"cuda\") # nvidia gpu\n",
    "elif torch.backends.mps.is_available(): \n",
    "    device = torch.device(\"mps\") # apple silicon\n",
    "else:                                 \n",
    "    device = torch.device(\"cpu\") # cpu\n",
    "\n",
    "print(\"Device: \", device)"
   ]
  },
  {
   "cell_type": "code",
   "execution_count": 12,
   "metadata": {},
   "outputs": [
    {
     "ename": "TypeError",
     "evalue": "__init__() got multiple values for argument 'batch_size'",
     "output_type": "error",
     "traceback": [
      "\u001b[0;31m---------------------------------------------------------------------------\u001b[0m",
      "\u001b[0;31mTypeError\u001b[0m                                 Traceback (most recent call last)",
      "Cell \u001b[0;32mIn[12], line 16\u001b[0m\n\u001b[1;32m     13\u001b[0m num_workers \u001b[38;5;241m=\u001b[39m \u001b[38;5;241m4\u001b[39m\n\u001b[1;32m     15\u001b[0m \u001b[38;5;66;03m# create the dataloader\u001b[39;00m\n\u001b[0;32m---> 16\u001b[0m data_loader \u001b[38;5;241m=\u001b[39m \u001b[43mDataLoader\u001b[49m\u001b[43m(\u001b[49m\u001b[43meeg_data\u001b[49m\u001b[43m,\u001b[49m\u001b[43m \u001b[49m\u001b[43mjoint_data\u001b[49m\u001b[43m,\u001b[49m\u001b[43m \u001b[49m\u001b[43mbatch_size\u001b[49m\u001b[38;5;241;43m=\u001b[39;49m\u001b[43mbatch_size\u001b[49m\u001b[43m,\u001b[49m\u001b[43m \u001b[49m\u001b[43mshuffle\u001b[49m\u001b[38;5;241;43m=\u001b[39;49m\u001b[38;5;28;43;01mTrue\u001b[39;49;00m\u001b[43m,\u001b[49m\u001b[43m \u001b[49m\u001b[43mnum_workers\u001b[49m\u001b[38;5;241;43m=\u001b[39;49m\u001b[43mnum_workers\u001b[49m\u001b[43m)\u001b[49m\n",
      "\u001b[0;31mTypeError\u001b[0m: __init__() got multiple values for argument 'batch_size'"
     ]
    }
   ],
   "source": [
    "# array of eeg as data\n",
    "eeg_data = torch.randn(100, 32, 1000).to(device)\n",
    "# array of joint angles as labels (or velocity)\n",
    "joint_data = torch.randn(100, 7).to(device)\n",
    "\n",
    "# batch size for training\n",
    "batch_size = 32\n",
    "# number of epochs\n",
    "epochs = 10\n",
    "# learning rate\n",
    "lr = 0.001\n",
    "# number of workers for parallel processing\n",
    "num_workers = 4\n",
    "\n",
    "# create the dataloader\n",
    "data_loader = DataLoader(eeg_data, joint_data, batch_size=batch_size, shuffle=True, num_workers=num_workers)"
   ]
  },
  {
   "cell_type": "code",
   "execution_count": null,
   "metadata": {},
   "outputs": [],
   "source": []
  }
 ],
 "metadata": {
  "kernelspec": {
   "display_name": "apple_ml",
   "language": "python",
   "name": "python3"
  },
  "language_info": {
   "codemirror_mode": {
    "name": "ipython",
    "version": 3
   },
   "file_extension": ".py",
   "mimetype": "text/x-python",
   "name": "python",
   "nbconvert_exporter": "python",
   "pygments_lexer": "ipython3",
   "version": "3.9.19"
  }
 },
 "nbformat": 4,
 "nbformat_minor": 2
}
