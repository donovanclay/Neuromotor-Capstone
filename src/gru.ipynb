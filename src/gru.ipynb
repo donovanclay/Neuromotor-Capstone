{
 "cells": [
  {
   "cell_type": "markdown",
   "metadata": {},
   "source": [
    "# GRU Implementation"
   ]
  },
  {
   "cell_type": "code",
   "execution_count": 187,
   "metadata": {},
   "outputs": [],
   "source": [
    "# --- we are doing GRU neural network ---\n",
    "import torch                # pytorch\n",
    "import torch.nn as nn       # neural network\n",
    "import torch.optim as optim # optimizer\n",
    "from torch.utils.data import DataLoader\n",
    "# progress bars\n",
    "from tqdm import tqdm\n",
    "# summary\n",
    "from torchinfo import summary\n",
    "# --- end of imports ---"
   ]
  },
  {
   "cell_type": "code",
   "execution_count": 188,
   "metadata": {},
   "outputs": [
    {
     "name": "stdout",
     "output_type": "stream",
     "text": [
      "Device:  mps\n"
     ]
    }
   ],
   "source": [
    "# cuda or mps or cpu for acceleration\n",
    "if torch.cuda.is_available():\n",
    "    device = torch.device(\"cuda\") # nvidia gpu\n",
    "elif torch.backends.mps.is_available(): \n",
    "    device = torch.device(\"mps\") # apple silicon\n",
    "else:                                 \n",
    "    device = torch.device(\"cpu\") # cpu\n",
    "\n",
    "print(\"Device: \", device)"
   ]
  },
  {
   "cell_type": "code",
   "execution_count": 189,
   "metadata": {},
   "outputs": [],
   "source": [
    "# split data into training and testing\n",
    "def train_vali_test_split(data, labels, train=0.8, vali=0.1, test=0.1):\n",
    "    assert train + vali + test == 1, \"train, vali, test must sum to 1\"\n",
    "    total = len(data)\n",
    "\n",
    "    indices = torch.randperm(total)\n",
    "    train_end = int(total * train)\n",
    "    vali_end = int(total * (train + vali))\n",
    "\n",
    "    train_indices = indices[:train_end]\n",
    "    vali_indices = indices[train_end:vali_end]\n",
    "    test_indices = indices[vali_end:]\n",
    "\n",
    "    train_data = data[train_indices]\n",
    "    train_labels = labels[train_indices]\n",
    "    vali_data = data[vali_indices]\n",
    "    vali_labels = labels[vali_indices]\n",
    "\n",
    "    test_data = data[test_indices]\n",
    "    test_labels = labels[test_indices]\n",
    "\n",
    "    print(\"Training data: \", len(train_data))\n",
    "    print(\"Validation data: \", len(vali_data))\n",
    "    print(\"Testing data: \", len(test_data))\n",
    "\n",
    "    return train_data, train_labels, vali_data, vali_labels, test_data, test_labels"
   ]
  },
  {
   "cell_type": "code",
   "execution_count": 210,
   "metadata": {},
   "outputs": [],
   "source": [
    "class GRUNet(nn.Module):\n",
    "    def __init__(self, input_size, hidden_size, num_layers, output_size):\n",
    "        super(GRUNet, self).__init__()\n",
    "        self.hidden_size = hidden_size\n",
    "        self.num_layers = num_layers\n",
    "        self.gru = nn.GRU(input_size, hidden_size, num_layers, batch_first=True)\n",
    "        self.fc = nn.Linear(hidden_size, output_size)\n",
    "    \n",
    "    def forward(self, x):\n",
    "        # initialize hidden state\n",
    "        h0 = torch.zeros(self.num_layers, x.size(0), self.hidden_size).to(x.device)\n",
    "\n",
    "        print(x.size())\n",
    "        print(h0.size())\n",
    "\n",
    "        # if x.dim() == 2:\n",
    "        #     x = x.unsqueeze(0)\n",
    "        # forward\n",
    "        out, _ = self.gru(x, h0)\n",
    "\n",
    "        # decode the hidden state of the last time step\n",
    "        out = self.fc(out[:, -1, :])\n",
    "        return out"
   ]
  },
  {
   "cell_type": "code",
   "execution_count": 191,
   "metadata": {},
   "outputs": [],
   "source": [
    "# class LSTMNet(nn.Module): # this may need to be changed and more steps for data loading\n",
    "#     def __init__(self, input_size, hidden_size, num_layers, output_size):\n",
    "#         super(LSTMNet, self).__init__()\n",
    "#         self.hidden_size = hidden_size\n",
    "#         self.num_layers = num_layers\n",
    "#         self.lstm = nn.LSTM(input_size, hidden_size, num_layers, batch_first=True)\n",
    "#         self.fc = nn.Linear(hidden_size, output_size)\n",
    "    \n",
    "#     def forward(self, x):\n",
    "#         # initialize hidden state\n",
    "#         h0 = torch.zeros(self.num_layers, x.size(0), self.hidden_size).to(device)\n",
    "#         c0 = torch.zeros(self.num_layers, x.size(0), self.hidden_size).to(device)\n",
    "#         # forward\n",
    "#         out, _ = self.lstm(x, (h0, c0))\n",
    "\n",
    "#         # decode the hidden state of the last time step\n",
    "#         out = self.fc(out[:, -1, :])\n",
    "#         return out"
   ]
  },
  {
   "cell_type": "code",
   "execution_count": 216,
   "metadata": {},
   "outputs": [
    {
     "name": "stdout",
     "output_type": "stream",
     "text": [
      "3\n",
      "2\n"
     ]
    }
   ],
   "source": [
    "# data\n",
    "NUM_EEG_CHANNELS = 64\n",
    "NUM_JOINT_ANGLES = 6\n",
    "\n",
    "# array of eeg as data\n",
    "eeg_data = torch.randn(100, 100, NUM_EEG_CHANNELS).to(device)\n",
    "# array of joint angles as labels (or velocity)\n",
    "joint_angles = torch.randn(100, NUM_JOINT_ANGLES).to(device)\n",
    "\n",
    "# check dimensions\n",
    "print(eeg_data.dim())\n",
    "print(joint_angles.dim())\n",
    "\n",
    "# keep it in correct shape\n",
    "# eeg_data = eeg_data.unsqueeze(0)\n",
    "# print(eeg_data.dim())"
   ]
  },
  {
   "cell_type": "code",
   "execution_count": 217,
   "metadata": {},
   "outputs": [
    {
     "name": "stdout",
     "output_type": "stream",
     "text": [
      "GRUNet(\n",
      "  (gru): GRU(64, 128, batch_first=True)\n",
      "  (fc): Linear(in_features=128, out_features=6, bias=True)\n",
      ")\n",
      "torch.Size([16, 6]) torch.Size([100, 6])\n",
      "torch.Size([16, 64]) torch.Size([100, 100, 64])\n"
     ]
    }
   ],
   "source": [
    "input_size = NUM_EEG_CHANNELS # input size - number of eeg channels\n",
    "hidden_size = 128 # hidden layer size - what we want to learn\n",
    "output_size = NUM_JOINT_ANGLES # output size - number of joint angles / features\n",
    "num_layers = 1 # number of layers\n",
    "batch_size = 16 # batch size\n",
    "\n",
    "model = GRUNet(input_size, hidden_size, num_layers=num_layers, output_size=output_size)\n",
    "model.to(device)\n",
    "\n",
    "print(model)\n",
    "\n",
    "print(outputs.shape, joint_angles.shape)\n",
    "print(inputs.shape, eeg_data.shape)"
   ]
  },
  {
   "cell_type": "code",
   "execution_count": 212,
   "metadata": {},
   "outputs": [],
   "source": [
    "optimizer = optim.Adam(model.parameters(), lr=0.001)\n",
    "criterion = nn.MSELoss() # mean squared error loss function"
   ]
  },
  {
   "cell_type": "markdown",
   "metadata": {},
   "source": [
    "## Training Loop"
   ]
  },
  {
   "cell_type": "code",
   "execution_count": 218,
   "metadata": {},
   "outputs": [
    {
     "name": "stdout",
     "output_type": "stream",
     "text": [
      "Training data:  80\n",
      "Validation data:  10\n",
      "Testing data:  10\n"
     ]
    }
   ],
   "source": [
    "epochs = 20\n",
    "\n",
    "# if eeg_data.dim() == 2:\n",
    "#     eeg_data = eeg_data.unsqueeze(0)\n",
    "\n",
    "train_data, train_labels, vali_data, vali_labels, test_data, test_labels = train_vali_test_split(eeg_data, joint_angles)\n",
    "\n",
    "# dataloader\n",
    "train_dataset = torch.utils.data.TensorDataset(train_data, train_labels)\n",
    "train_loader = DataLoader(dataset=train_dataset, batch_size=batch_size, shuffle=True)\n",
    "\n",
    "vali_dataset = torch.utils.data.TensorDataset(vali_data, vali_labels)\n",
    "vali_loader = DataLoader(dataset=vali_dataset, batch_size=batch_size, shuffle=False)"
   ]
  },
  {
   "cell_type": "code",
   "execution_count": 219,
   "metadata": {},
   "outputs": [
    {
     "name": "stdout",
     "output_type": "stream",
     "text": [
      "Inputs shape: torch.Size([16, 100, 64]), Labels shape: torch.Size([16, 6])\n"
     ]
    }
   ],
   "source": [
    "for inputs, labels in train_loader:\n",
    "    print(f\"Inputs shape: {inputs.shape}, Labels shape: {labels.shape}\")\n",
    "    break  # Just print the first batch to check"
   ]
  },
  {
   "cell_type": "code",
   "execution_count": 220,
   "metadata": {},
   "outputs": [
    {
     "name": "stderr",
     "output_type": "stream",
     "text": [
      "  0%|          | 0/5 [00:00<?, ?it/s]"
     ]
    },
    {
     "name": "stdout",
     "output_type": "stream",
     "text": [
      "Inputs shape: torch.Size([16, 100, 64]), Labels shape: torch.Size([16, 6])\n",
      "torch.Size([16, 100, 64])\n",
      "torch.Size([1, 16, 128])\n",
      "Outputs Shape: torch.Size([16, 6]), Labels Shape: torch.Size([16, 6])\n"
     ]
    },
    {
     "name": "stderr",
     "output_type": "stream",
     "text": [
      " 60%|██████    | 3/5 [00:00<00:00,  5.97it/s]"
     ]
    },
    {
     "name": "stdout",
     "output_type": "stream",
     "text": [
      "Inputs shape: torch.Size([16, 100, 64]), Labels shape: torch.Size([16, 6])\n",
      "torch.Size([16, 100, 64])\n",
      "torch.Size([1, 16, 128])\n",
      "Outputs Shape: torch.Size([16, 6]), Labels Shape: torch.Size([16, 6])\n",
      "Inputs shape: torch.Size([16, 100, 64]), Labels shape: torch.Size([16, 6])\n",
      "torch.Size([16, 100, 64])\n",
      "torch.Size([1, 16, 128])\n",
      "Outputs Shape: torch.Size([16, 6]), Labels Shape: torch.Size([16, 6])\n",
      "Inputs shape: torch.Size([16, 100, 64]), Labels shape: torch.Size([16, 6])\n",
      "torch.Size([16, 100, 64])\n",
      "torch.Size([1, 16, 128])\n",
      "Outputs Shape: torch.Size([16, 6]), Labels Shape: torch.Size([16, 6])\n"
     ]
    },
    {
     "name": "stderr",
     "output_type": "stream",
     "text": [
      "100%|██████████| 5/5 [00:00<00:00,  6.85it/s]\n"
     ]
    },
    {
     "name": "stdout",
     "output_type": "stream",
     "text": [
      "Inputs shape: torch.Size([16, 100, 64]), Labels shape: torch.Size([16, 6])\n",
      "torch.Size([16, 100, 64])\n",
      "torch.Size([1, 16, 128])\n",
      "Outputs Shape: torch.Size([16, 6]), Labels Shape: torch.Size([16, 6])\n"
     ]
    },
    {
     "name": "stderr",
     "output_type": "stream",
     "text": [
      "  0%|          | 0/1 [00:00<?, ?it/s]"
     ]
    },
    {
     "name": "stdout",
     "output_type": "stream",
     "text": [
      "torch.Size([10, 100, 64])\n",
      "torch.Size([1, 10, 128])\n"
     ]
    },
    {
     "name": "stderr",
     "output_type": "stream",
     "text": [
      "100%|██████████| 1/1 [00:00<00:00,  1.88it/s]\n"
     ]
    },
    {
     "name": "stdout",
     "output_type": "stream",
     "text": [
      "Epoch 1/20 - Train Loss: 1.0300 - Vali Loss: 1.0664\n"
     ]
    },
    {
     "name": "stderr",
     "output_type": "stream",
     "text": [
      " 40%|████      | 2/5 [00:00<00:00, 13.70it/s]"
     ]
    },
    {
     "name": "stdout",
     "output_type": "stream",
     "text": [
      "Inputs shape: torch.Size([16, 100, 64]), Labels shape: torch.Size([16, 6])\n",
      "torch.Size([16, 100, 64])\n",
      "torch.Size([1, 16, 128])\n",
      "Outputs Shape: torch.Size([16, 6]), Labels Shape: torch.Size([16, 6])\n",
      "Inputs shape: torch.Size([16, 100, 64]), Labels shape: torch.Size([16, 6])\n",
      "torch.Size([16, 100, 64])\n",
      "torch.Size([1, 16, 128])\n",
      "Outputs Shape: torch.Size([16, 6]), Labels Shape: torch.Size([16, 6])\n",
      "Inputs shape: torch.Size([16, 100, 64]), Labels shape: torch.Size([16, 6])\n",
      "torch.Size([16, 100, 64])\n",
      "torch.Size([1, 16, 128])\n",
      "Outputs Shape: torch.Size([16, 6]), Labels Shape: torch.Size([16, 6])\n"
     ]
    },
    {
     "name": "stderr",
     "output_type": "stream",
     "text": [
      "100%|██████████| 5/5 [00:00<00:00, 13.49it/s]\n"
     ]
    },
    {
     "name": "stdout",
     "output_type": "stream",
     "text": [
      "Inputs shape: torch.Size([16, 100, 64]), Labels shape: torch.Size([16, 6])\n",
      "torch.Size([16, 100, 64])\n",
      "torch.Size([1, 16, 128])\n",
      "Outputs Shape: torch.Size([16, 6]), Labels Shape: torch.Size([16, 6])\n",
      "Inputs shape: torch.Size([16, 100, 64]), Labels shape: torch.Size([16, 6])\n",
      "torch.Size([16, 100, 64])\n",
      "torch.Size([1, 16, 128])\n",
      "Outputs Shape: torch.Size([16, 6]), Labels Shape: torch.Size([16, 6])\n"
     ]
    },
    {
     "name": "stderr",
     "output_type": "stream",
     "text": [
      "100%|██████████| 1/1 [00:00<00:00, 36.37it/s]\n"
     ]
    },
    {
     "name": "stdout",
     "output_type": "stream",
     "text": [
      "torch.Size([10, 100, 64])\n",
      "torch.Size([1, 10, 128])\n",
      "Epoch 2/20 - Train Loss: 1.0300 - Vali Loss: 1.0664\n"
     ]
    },
    {
     "name": "stderr",
     "output_type": "stream",
     "text": [
      "  0%|          | 0/5 [00:00<?, ?it/s]"
     ]
    },
    {
     "name": "stdout",
     "output_type": "stream",
     "text": [
      "Inputs shape: torch.Size([16, 100, 64]), Labels shape: torch.Size([16, 6])\n",
      "torch.Size([16, 100, 64])\n",
      "torch.Size([1, 16, 128])\n"
     ]
    },
    {
     "name": "stderr",
     "output_type": "stream",
     "text": [
      " 40%|████      | 2/5 [00:00<00:00, 13.79it/s]"
     ]
    },
    {
     "name": "stdout",
     "output_type": "stream",
     "text": [
      "Outputs Shape: torch.Size([16, 6]), Labels Shape: torch.Size([16, 6])\n",
      "Inputs shape: torch.Size([16, 100, 64]), Labels shape: torch.Size([16, 6])\n",
      "torch.Size([16, 100, 64])\n",
      "torch.Size([1, 16, 128])\n",
      "Outputs Shape: torch.Size([16, 6]), Labels Shape: torch.Size([16, 6])\n",
      "Inputs shape: torch.Size([16, 100, 64]), Labels shape: torch.Size([16, 6])\n",
      "torch.Size([16, 100, 64])\n",
      "torch.Size([1, 16, 128])\n",
      "Outputs Shape: torch.Size([16, 6]), Labels Shape: torch.Size([16, 6])\n",
      "Inputs shape: torch.Size([16, 100, 64]), Labels shape: torch.Size([16, 6])\n",
      "torch.Size([16, 100, 64])\n",
      "torch.Size([1, 16, 128])\n"
     ]
    },
    {
     "name": "stderr",
     "output_type": "stream",
     "text": [
      "100%|██████████| 5/5 [00:00<00:00, 13.65it/s]\n"
     ]
    },
    {
     "name": "stdout",
     "output_type": "stream",
     "text": [
      "Outputs Shape: torch.Size([16, 6]), Labels Shape: torch.Size([16, 6])\n",
      "Inputs shape: torch.Size([16, 100, 64]), Labels shape: torch.Size([16, 6])\n",
      "torch.Size([16, 100, 64])\n",
      "torch.Size([1, 16, 128])\n",
      "Outputs Shape: torch.Size([16, 6]), Labels Shape: torch.Size([16, 6])\n"
     ]
    },
    {
     "name": "stderr",
     "output_type": "stream",
     "text": [
      "  0%|          | 0/1 [00:00<?, ?it/s]"
     ]
    },
    {
     "name": "stdout",
     "output_type": "stream",
     "text": [
      "torch.Size([10, 100, 64])\n",
      "torch.Size([1, 10, 128])\n"
     ]
    },
    {
     "name": "stderr",
     "output_type": "stream",
     "text": [
      "100%|██████████| 1/1 [00:00<00:00, 36.07it/s]\n"
     ]
    },
    {
     "name": "stdout",
     "output_type": "stream",
     "text": [
      "Epoch 3/20 - Train Loss: 1.0300 - Vali Loss: 1.0664\n"
     ]
    },
    {
     "name": "stderr",
     "output_type": "stream",
     "text": [
      "  0%|          | 0/5 [00:00<?, ?it/s]"
     ]
    },
    {
     "name": "stdout",
     "output_type": "stream",
     "text": [
      "Inputs shape: torch.Size([16, 100, 64]), Labels shape: torch.Size([16, 6])\n",
      "torch.Size([16, 100, 64])\n",
      "torch.Size([1, 16, 128])\n",
      "Outputs Shape: torch.Size([16, 6]), Labels Shape: torch.Size([16, 6])\n"
     ]
    },
    {
     "name": "stderr",
     "output_type": "stream",
     "text": [
      " 40%|████      | 2/5 [00:00<00:00, 13.44it/s]"
     ]
    },
    {
     "name": "stdout",
     "output_type": "stream",
     "text": [
      "Inputs shape: torch.Size([16, 100, 64]), Labels shape: torch.Size([16, 6])\n",
      "torch.Size([16, 100, 64])\n",
      "torch.Size([1, 16, 128])\n",
      "Outputs Shape: torch.Size([16, 6]), Labels Shape: torch.Size([16, 6])\n",
      "Inputs shape: torch.Size([16, 100, 64]), Labels shape: torch.Size([16, 6])\n",
      "torch.Size([16, 100, 64])\n",
      "torch.Size([1, 16, 128])\n",
      "Outputs Shape: torch.Size([16, 6]), Labels Shape: torch.Size([16, 6])\n",
      "Inputs shape: torch.Size([16, 100, 64]), Labels shape: torch.Size([16, 6])\n",
      "torch.Size([16, 100, 64])\n",
      "torch.Size([1, 16, 128])\n",
      "Outputs Shape: torch.Size([16, 6]), Labels Shape: torch.Size([16, 6])\n"
     ]
    },
    {
     "name": "stderr",
     "output_type": "stream",
     "text": [
      "100%|██████████| 5/5 [00:00<00:00, 13.16it/s]"
     ]
    },
    {
     "name": "stdout",
     "output_type": "stream",
     "text": [
      "Inputs shape: torch.Size([16, 100, 64]), Labels shape: torch.Size([16, 6])\n",
      "torch.Size([16, 100, 64])\n",
      "torch.Size([1, 16, 128])\n",
      "Outputs Shape: torch.Size([16, 6]), Labels Shape: torch.Size([16, 6])\n"
     ]
    },
    {
     "name": "stderr",
     "output_type": "stream",
     "text": [
      "\n",
      "100%|██████████| 1/1 [00:00<00:00, 36.57it/s]\n"
     ]
    },
    {
     "name": "stdout",
     "output_type": "stream",
     "text": [
      "torch.Size([10, 100, 64])\n",
      "torch.Size([1, 10, 128])\n",
      "Epoch 4/20 - Train Loss: 1.0300 - Vali Loss: 1.0664\n"
     ]
    },
    {
     "name": "stderr",
     "output_type": "stream",
     "text": [
      "  0%|          | 0/5 [00:00<?, ?it/s]"
     ]
    },
    {
     "name": "stdout",
     "output_type": "stream",
     "text": [
      "Inputs shape: torch.Size([16, 100, 64]), Labels shape: torch.Size([16, 6])\n",
      "torch.Size([16, 100, 64])\n",
      "torch.Size([1, 16, 128])\n",
      "Outputs Shape: torch.Size([16, 6]), Labels Shape: torch.Size([16, 6])\n",
      "Inputs shape: torch.Size([16, 100, 64]), Labels shape: torch.Size([16, 6])\n",
      "torch.Size([16, 100, 64])\n",
      "torch.Size([1, 16, 128])\n"
     ]
    },
    {
     "name": "stderr",
     "output_type": "stream",
     "text": [
      " 40%|████      | 2/5 [00:00<00:00, 13.47it/s]"
     ]
    },
    {
     "name": "stdout",
     "output_type": "stream",
     "text": [
      "Outputs Shape: torch.Size([16, 6]), Labels Shape: torch.Size([16, 6])\n",
      "Inputs shape: torch.Size([16, 100, 64]), Labels shape: torch.Size([16, 6])\n",
      "torch.Size([16, 100, 64])\n",
      "torch.Size([1, 16, 128])\n",
      "Outputs Shape: torch.Size([16, 6]), Labels Shape: torch.Size([16, 6])\n",
      "Inputs shape: torch.Size([16, 100, 64]), Labels shape: torch.Size([16, 6])\n",
      "torch.Size([16, 100, 64])\n",
      "torch.Size([1, 16, 128])\n",
      "Outputs Shape: torch.Size([16, 6]), Labels Shape: torch.Size([16, 6])\n"
     ]
    },
    {
     "name": "stderr",
     "output_type": "stream",
     "text": [
      " 80%|████████  | 4/5 [00:00<00:00, 13.59it/s]"
     ]
    },
    {
     "name": "stdout",
     "output_type": "stream",
     "text": [
      "Inputs shape: torch.Size([16, 100, 64]), Labels shape: torch.Size([16, 6])\n",
      "torch.Size([16, 100, 64])\n",
      "torch.Size([1, 16, 128])\n"
     ]
    },
    {
     "name": "stderr",
     "output_type": "stream",
     "text": [
      "100%|██████████| 5/5 [00:00<00:00, 13.58it/s]\n"
     ]
    },
    {
     "name": "stdout",
     "output_type": "stream",
     "text": [
      "Outputs Shape: torch.Size([16, 6]), Labels Shape: torch.Size([16, 6])\n"
     ]
    },
    {
     "name": "stderr",
     "output_type": "stream",
     "text": [
      "  0%|          | 0/1 [00:00<?, ?it/s]"
     ]
    },
    {
     "name": "stdout",
     "output_type": "stream",
     "text": [
      "torch.Size([10, 100, 64])\n",
      "torch.Size([1, 10, 128])\n"
     ]
    },
    {
     "name": "stderr",
     "output_type": "stream",
     "text": [
      "100%|██████████| 1/1 [00:00<00:00, 34.91it/s]\n"
     ]
    },
    {
     "name": "stdout",
     "output_type": "stream",
     "text": [
      "Epoch 5/20 - Train Loss: 1.0300 - Vali Loss: 1.0664\n"
     ]
    },
    {
     "name": "stderr",
     "output_type": "stream",
     "text": [
      "  0%|          | 0/5 [00:00<?, ?it/s]"
     ]
    },
    {
     "name": "stdout",
     "output_type": "stream",
     "text": [
      "Inputs shape: torch.Size([16, 100, 64]), Labels shape: torch.Size([16, 6])\n",
      "torch.Size([16, 100, 64])\n",
      "torch.Size([1, 16, 128])\n",
      "Outputs Shape: torch.Size([16, 6]), Labels Shape: torch.Size([16, 6])\n",
      "Inputs shape: torch.Size([16, 100, 64]), Labels shape: torch.Size([16, 6])\n",
      "torch.Size([16, 100, 64])\n",
      "torch.Size([1, 16, 128])\n",
      "Outputs Shape: torch.Size([16, 6]), Labels Shape: torch.Size([16, 6])\n"
     ]
    },
    {
     "name": "stderr",
     "output_type": "stream",
     "text": [
      " 40%|████      | 2/5 [00:00<00:00, 13.61it/s]"
     ]
    },
    {
     "name": "stdout",
     "output_type": "stream",
     "text": [
      "Inputs shape: torch.Size([16, 100, 64]), Labels shape: torch.Size([16, 6])\n",
      "torch.Size([16, 100, 64])\n",
      "torch.Size([1, 16, 128])\n",
      "Outputs Shape: torch.Size([16, 6]), Labels Shape: torch.Size([16, 6])\n",
      "Inputs shape: torch.Size([16, 100, 64]), Labels shape: torch.Size([16, 6])\n",
      "torch.Size([16, 100, 64])\n",
      "torch.Size([1, 16, 128])\n",
      "Outputs Shape: torch.Size([16, 6]), Labels Shape: torch.Size([16, 6])\n"
     ]
    },
    {
     "name": "stderr",
     "output_type": "stream",
     "text": [
      " 80%|████████  | 4/5 [00:00<00:00, 13.43it/s]"
     ]
    },
    {
     "name": "stdout",
     "output_type": "stream",
     "text": [
      "Inputs shape: torch.Size([16, 100, 64]), Labels shape: torch.Size([16, 6])\n",
      "torch.Size([16, 100, 64])\n",
      "torch.Size([1, 16, 128])\n",
      "Outputs Shape: torch.Size([16, 6]), Labels Shape: torch.Size([16, 6])\n"
     ]
    },
    {
     "name": "stderr",
     "output_type": "stream",
     "text": [
      "100%|██████████| 5/5 [00:00<00:00, 13.38it/s]\n",
      "  0%|          | 0/1 [00:00<?, ?it/s]"
     ]
    },
    {
     "name": "stdout",
     "output_type": "stream",
     "text": [
      "torch.Size([10, 100, 64])\n",
      "torch.Size([1, 10, 128])\n"
     ]
    },
    {
     "name": "stderr",
     "output_type": "stream",
     "text": [
      "100%|██████████| 1/1 [00:00<00:00, 35.72it/s]\n"
     ]
    },
    {
     "name": "stdout",
     "output_type": "stream",
     "text": [
      "Epoch 6/20 - Train Loss: 1.0300 - Vali Loss: 1.0664\n"
     ]
    },
    {
     "name": "stderr",
     "output_type": "stream",
     "text": [
      "  0%|          | 0/5 [00:00<?, ?it/s]"
     ]
    },
    {
     "name": "stdout",
     "output_type": "stream",
     "text": [
      "Inputs shape: torch.Size([16, 100, 64]), Labels shape: torch.Size([16, 6])\n",
      "torch.Size([16, 100, 64])\n",
      "torch.Size([1, 16, 128])\n",
      "Outputs Shape: torch.Size([16, 6]), Labels Shape: torch.Size([16, 6])\n",
      "Inputs shape: torch.Size([16, 100, 64]), Labels shape: torch.Size([16, 6])\n",
      "torch.Size([16, 100, 64])\n",
      "torch.Size([1, 16, 128])\n",
      "Outputs Shape: torch.Size([16, 6]), Labels Shape: torch.Size([16, 6])\n"
     ]
    },
    {
     "name": "stderr",
     "output_type": "stream",
     "text": [
      " 40%|████      | 2/5 [00:00<00:00, 13.24it/s]"
     ]
    },
    {
     "name": "stdout",
     "output_type": "stream",
     "text": [
      "Inputs shape: torch.Size([16, 100, 64]), Labels shape: torch.Size([16, 6])\n",
      "torch.Size([16, 100, 64])\n",
      "torch.Size([1, 16, 128])\n",
      "Outputs Shape: torch.Size([16, 6]), Labels Shape: torch.Size([16, 6])\n",
      "Inputs shape: torch.Size([16, 100, 64]), Labels shape: torch.Size([16, 6])\n",
      "torch.Size([16, 100, 64])\n",
      "torch.Size([1, 16, 128])\n",
      "Outputs Shape: torch.Size([16, 6]), Labels Shape: torch.Size([16, 6])\n"
     ]
    },
    {
     "name": "stderr",
     "output_type": "stream",
     "text": [
      " 80%|████████  | 4/5 [00:00<00:00, 13.25it/s]"
     ]
    },
    {
     "name": "stdout",
     "output_type": "stream",
     "text": [
      "Inputs shape: torch.Size([16, 100, 64]), Labels shape: torch.Size([16, 6])\n",
      "torch.Size([16, 100, 64])\n",
      "torch.Size([1, 16, 128])\n",
      "Outputs Shape: torch.Size([16, 6]), Labels Shape: torch.Size([16, 6])\n"
     ]
    },
    {
     "name": "stderr",
     "output_type": "stream",
     "text": [
      "100%|██████████| 5/5 [00:00<00:00, 13.16it/s]\n",
      "100%|██████████| 1/1 [00:00<00:00, 35.82it/s]\n"
     ]
    },
    {
     "name": "stdout",
     "output_type": "stream",
     "text": [
      "torch.Size([10, 100, 64])\n",
      "torch.Size([1, 10, 128])\n",
      "Epoch 7/20 - Train Loss: 1.0300 - Vali Loss: 1.0664\n"
     ]
    },
    {
     "name": "stderr",
     "output_type": "stream",
     "text": [
      "  0%|          | 0/5 [00:00<?, ?it/s]"
     ]
    },
    {
     "name": "stdout",
     "output_type": "stream",
     "text": [
      "Inputs shape: torch.Size([16, 100, 64]), Labels shape: torch.Size([16, 6])\n",
      "torch.Size([16, 100, 64])\n",
      "torch.Size([1, 16, 128])\n",
      "Outputs Shape: torch.Size([16, 6]), Labels Shape: torch.Size([16, 6])\n",
      "Inputs shape: torch.Size([16, 100, 64]), Labels shape: torch.Size([16, 6])\n",
      "torch.Size([16, 100, 64])\n",
      "torch.Size([1, 16, 128])\n",
      "Outputs Shape: torch.Size([16, 6]), Labels Shape: torch.Size([16, 6])\n"
     ]
    },
    {
     "name": "stderr",
     "output_type": "stream",
     "text": [
      " 40%|████      | 2/5 [00:00<00:00, 13.39it/s]"
     ]
    },
    {
     "name": "stdout",
     "output_type": "stream",
     "text": [
      "Inputs shape: torch.Size([16, 100, 64]), Labels shape: torch.Size([16, 6])\n",
      "torch.Size([16, 100, 64])\n",
      "torch.Size([1, 16, 128])\n",
      "Outputs Shape: torch.Size([16, 6]), Labels Shape: torch.Size([16, 6])\n",
      "Inputs shape: torch.Size([16, 100, 64]), Labels shape: torch.Size([16, 6])\n",
      "torch.Size([16, 100, 64])\n",
      "torch.Size([1, 16, 128])\n",
      "Outputs Shape: torch.Size([16, 6]), Labels Shape: torch.Size([16, 6])\n"
     ]
    },
    {
     "name": "stderr",
     "output_type": "stream",
     "text": [
      " 80%|████████  | 4/5 [00:00<00:00, 13.25it/s]"
     ]
    },
    {
     "name": "stdout",
     "output_type": "stream",
     "text": [
      "Inputs shape: torch.Size([16, 100, 64]), Labels shape: torch.Size([16, 6])\n",
      "torch.Size([16, 100, 64])\n",
      "torch.Size([1, 16, 128])\n",
      "Outputs Shape: torch.Size([16, 6]), Labels Shape: torch.Size([16, 6])\n"
     ]
    },
    {
     "name": "stderr",
     "output_type": "stream",
     "text": [
      "100%|██████████| 5/5 [00:00<00:00, 13.26it/s]\n",
      "100%|██████████| 1/1 [00:00<00:00, 33.88it/s]\n"
     ]
    },
    {
     "name": "stdout",
     "output_type": "stream",
     "text": [
      "torch.Size([10, 100, 64])\n",
      "torch.Size([1, 10, 128])\n",
      "Epoch 8/20 - Train Loss: 1.0300 - Vali Loss: 1.0664\n"
     ]
    },
    {
     "name": "stderr",
     "output_type": "stream",
     "text": [
      "  0%|          | 0/5 [00:00<?, ?it/s]"
     ]
    },
    {
     "name": "stdout",
     "output_type": "stream",
     "text": [
      "Inputs shape: torch.Size([16, 100, 64]), Labels shape: torch.Size([16, 6])\n",
      "torch.Size([16, 100, 64])\n",
      "torch.Size([1, 16, 128])\n",
      "Outputs Shape: torch.Size([16, 6]), Labels Shape: torch.Size([16, 6])\n",
      "Inputs shape: torch.Size([16, 100, 64]), Labels shape: torch.Size([16, 6])\n",
      "torch.Size([16, 100, 64])\n",
      "torch.Size([1, 16, 128])\n",
      "Outputs Shape: torch.Size([16, 6]), Labels Shape: torch.Size([16, 6])\n"
     ]
    },
    {
     "name": "stderr",
     "output_type": "stream",
     "text": [
      " 40%|████      | 2/5 [00:00<00:00, 13.02it/s]"
     ]
    },
    {
     "name": "stdout",
     "output_type": "stream",
     "text": [
      "Inputs shape: torch.Size([16, 100, 64]), Labels shape: torch.Size([16, 6])\n",
      "torch.Size([16, 100, 64])\n",
      "torch.Size([1, 16, 128])\n",
      "Outputs Shape: torch.Size([16, 6]), Labels Shape: torch.Size([16, 6])\n",
      "Inputs shape: torch.Size([16, 100, 64]), Labels shape: torch.Size([16, 6])\n",
      "torch.Size([16, 100, 64])\n",
      "torch.Size([1, 16, 128])\n",
      "Outputs Shape: torch.Size([16, 6]), Labels Shape: torch.Size([16, 6])\n"
     ]
    },
    {
     "name": "stderr",
     "output_type": "stream",
     "text": [
      " 80%|████████  | 4/5 [00:00<00:00, 12.93it/s]"
     ]
    },
    {
     "name": "stdout",
     "output_type": "stream",
     "text": [
      "Inputs shape: torch.Size([16, 100, 64]), Labels shape: torch.Size([16, 6])\n",
      "torch.Size([16, 100, 64])\n",
      "torch.Size([1, 16, 128])\n",
      "Outputs Shape: torch.Size([16, 6]), Labels Shape: torch.Size([16, 6])\n"
     ]
    },
    {
     "name": "stderr",
     "output_type": "stream",
     "text": [
      "100%|██████████| 5/5 [00:00<00:00, 12.97it/s]\n",
      "100%|██████████| 1/1 [00:00<00:00, 33.15it/s]\n"
     ]
    },
    {
     "name": "stdout",
     "output_type": "stream",
     "text": [
      "torch.Size([10, 100, 64])\n",
      "torch.Size([1, 10, 128])\n",
      "Epoch 9/20 - Train Loss: 1.0300 - Vali Loss: 1.0664\n"
     ]
    },
    {
     "name": "stderr",
     "output_type": "stream",
     "text": [
      "  0%|          | 0/5 [00:00<?, ?it/s]"
     ]
    },
    {
     "name": "stdout",
     "output_type": "stream",
     "text": [
      "Inputs shape: torch.Size([16, 100, 64]), Labels shape: torch.Size([16, 6])\n",
      "torch.Size([16, 100, 64])\n",
      "torch.Size([1, 16, 128])\n",
      "Outputs Shape: torch.Size([16, 6]), Labels Shape: torch.Size([16, 6])\n",
      "Inputs shape: torch.Size([16, 100, 64]), Labels shape: torch.Size([16, 6])\n",
      "torch.Size([16, 100, 64])\n",
      "torch.Size([1, 16, 128])\n"
     ]
    },
    {
     "name": "stderr",
     "output_type": "stream",
     "text": [
      " 40%|████      | 2/5 [00:00<00:00, 13.00it/s]"
     ]
    },
    {
     "name": "stdout",
     "output_type": "stream",
     "text": [
      "Outputs Shape: torch.Size([16, 6]), Labels Shape: torch.Size([16, 6])\n",
      "Inputs shape: torch.Size([16, 100, 64]), Labels shape: torch.Size([16, 6])\n",
      "torch.Size([16, 100, 64])\n",
      "torch.Size([1, 16, 128])\n",
      "Outputs Shape: torch.Size([16, 6]), Labels Shape: torch.Size([16, 6])\n"
     ]
    },
    {
     "name": "stderr",
     "output_type": "stream",
     "text": [
      " 80%|████████  | 4/5 [00:00<00:00, 13.06it/s]"
     ]
    },
    {
     "name": "stdout",
     "output_type": "stream",
     "text": [
      "Inputs shape: torch.Size([16, 100, 64]), Labels shape: torch.Size([16, 6])\n",
      "torch.Size([16, 100, 64])\n",
      "torch.Size([1, 16, 128])\n",
      "Outputs Shape: torch.Size([16, 6]), Labels Shape: torch.Size([16, 6])\n",
      "Inputs shape: torch.Size([16, 100, 64]), Labels shape: torch.Size([16, 6])\n",
      "torch.Size([16, 100, 64])\n",
      "torch.Size([1, 16, 128])\n"
     ]
    },
    {
     "name": "stderr",
     "output_type": "stream",
     "text": [
      "100%|██████████| 5/5 [00:00<00:00, 13.11it/s]\n"
     ]
    },
    {
     "name": "stdout",
     "output_type": "stream",
     "text": [
      "Outputs Shape: torch.Size([16, 6]), Labels Shape: torch.Size([16, 6])\n"
     ]
    },
    {
     "name": "stderr",
     "output_type": "stream",
     "text": [
      "  0%|          | 0/1 [00:00<?, ?it/s]"
     ]
    },
    {
     "name": "stdout",
     "output_type": "stream",
     "text": [
      "torch.Size([10, 100, 64])\n",
      "torch.Size([1, 10, 128])\n"
     ]
    },
    {
     "name": "stderr",
     "output_type": "stream",
     "text": [
      "100%|██████████| 1/1 [00:00<00:00, 35.74it/s]\n"
     ]
    },
    {
     "name": "stdout",
     "output_type": "stream",
     "text": [
      "Epoch 10/20 - Train Loss: 1.0300 - Vali Loss: 1.0664\n"
     ]
    },
    {
     "name": "stderr",
     "output_type": "stream",
     "text": [
      "  0%|          | 0/5 [00:00<?, ?it/s]"
     ]
    },
    {
     "name": "stdout",
     "output_type": "stream",
     "text": [
      "Inputs shape: torch.Size([16, 100, 64]), Labels shape: torch.Size([16, 6])\n",
      "torch.Size([16, 100, 64])\n",
      "torch.Size([1, 16, 128])\n",
      "Outputs Shape: torch.Size([16, 6]), Labels Shape: torch.Size([16, 6])\n",
      "Inputs shape: torch.Size([16, 100, 64]), Labels shape: torch.Size([16, 6])\n",
      "torch.Size([16, 100, 64])\n",
      "torch.Size([1, 16, 128])\n",
      "Outputs Shape: torch.Size([16, 6]), Labels Shape: torch.Size([16, 6])\n"
     ]
    },
    {
     "name": "stderr",
     "output_type": "stream",
     "text": [
      " 40%|████      | 2/5 [00:00<00:00, 13.67it/s]"
     ]
    },
    {
     "name": "stdout",
     "output_type": "stream",
     "text": [
      "Inputs shape: torch.Size([16, 100, 64]), Labels shape: torch.Size([16, 6])\n",
      "torch.Size([16, 100, 64])\n",
      "torch.Size([1, 16, 128])\n",
      "Outputs Shape: torch.Size([16, 6]), Labels Shape: torch.Size([16, 6])\n",
      "Inputs shape: torch.Size([16, 100, 64]), Labels shape: torch.Size([16, 6])\n",
      "torch.Size([16, 100, 64])\n",
      "torch.Size([1, 16, 128])\n"
     ]
    },
    {
     "name": "stderr",
     "output_type": "stream",
     "text": [
      " 80%|████████  | 4/5 [00:00<00:00, 13.38it/s]"
     ]
    },
    {
     "name": "stdout",
     "output_type": "stream",
     "text": [
      "Outputs Shape: torch.Size([16, 6]), Labels Shape: torch.Size([16, 6])\n",
      "Inputs shape: torch.Size([16, 100, 64]), Labels shape: torch.Size([16, 6])\n",
      "torch.Size([16, 100, 64])\n",
      "torch.Size([1, 16, 128])\n",
      "Outputs Shape: torch.Size([16, 6]), Labels Shape: torch.Size([16, 6])\n"
     ]
    },
    {
     "name": "stderr",
     "output_type": "stream",
     "text": [
      "100%|██████████| 5/5 [00:00<00:00, 13.41it/s]\n",
      "  0%|          | 0/1 [00:00<?, ?it/s]"
     ]
    },
    {
     "name": "stdout",
     "output_type": "stream",
     "text": [
      "torch.Size([10, 100, 64])\n",
      "torch.Size([1, 10, 128])\n"
     ]
    },
    {
     "name": "stderr",
     "output_type": "stream",
     "text": [
      "100%|██████████| 1/1 [00:00<00:00, 34.37it/s]\n"
     ]
    },
    {
     "name": "stdout",
     "output_type": "stream",
     "text": [
      "Epoch 11/20 - Train Loss: 1.0300 - Vali Loss: 1.0664\n"
     ]
    },
    {
     "name": "stderr",
     "output_type": "stream",
     "text": [
      "  0%|          | 0/5 [00:00<?, ?it/s]"
     ]
    },
    {
     "name": "stdout",
     "output_type": "stream",
     "text": [
      "Inputs shape: torch.Size([16, 100, 64]), Labels shape: torch.Size([16, 6])\n",
      "torch.Size([16, 100, 64])\n",
      "torch.Size([1, 16, 128])\n",
      "Outputs Shape: torch.Size([16, 6]), Labels Shape: torch.Size([16, 6])\n"
     ]
    },
    {
     "name": "stderr",
     "output_type": "stream",
     "text": [
      " 40%|████      | 2/5 [00:00<00:00, 13.37it/s]"
     ]
    },
    {
     "name": "stdout",
     "output_type": "stream",
     "text": [
      "Inputs shape: torch.Size([16, 100, 64]), Labels shape: torch.Size([16, 6])\n",
      "torch.Size([16, 100, 64])\n",
      "torch.Size([1, 16, 128])\n",
      "Outputs Shape: torch.Size([16, 6]), Labels Shape: torch.Size([16, 6])\n",
      "Inputs shape: torch.Size([16, 100, 64]), Labels shape: torch.Size([16, 6])\n",
      "torch.Size([16, 100, 64])\n",
      "torch.Size([1, 16, 128])\n",
      "Outputs Shape: torch.Size([16, 6]), Labels Shape: torch.Size([16, 6])\n",
      "Inputs shape: torch.Size([16, 100, 64]), Labels shape: torch.Size([16, 6])\n",
      "torch.Size([16, 100, 64])\n",
      "torch.Size([1, 16, 128])\n",
      "Outputs Shape: torch.Size([16, 6]), Labels Shape: torch.Size([16, 6])\n"
     ]
    },
    {
     "name": "stderr",
     "output_type": "stream",
     "text": [
      " 80%|████████  | 4/5 [00:00<00:00, 13.22it/s]"
     ]
    },
    {
     "name": "stdout",
     "output_type": "stream",
     "text": [
      "Inputs shape: torch.Size([16, 100, 64]), Labels shape: torch.Size([16, 6])\n",
      "torch.Size([16, 100, 64])\n",
      "torch.Size([1, 16, 128])\n",
      "Outputs Shape: torch.Size([16, 6]), Labels Shape: torch.Size([16, 6])\n"
     ]
    },
    {
     "name": "stderr",
     "output_type": "stream",
     "text": [
      "100%|██████████| 5/5 [00:00<00:00, 13.12it/s]\n",
      "100%|██████████| 1/1 [00:00<00:00, 34.88it/s]\n"
     ]
    },
    {
     "name": "stdout",
     "output_type": "stream",
     "text": [
      "torch.Size([10, 100, 64])\n",
      "torch.Size([1, 10, 128])\n",
      "Epoch 12/20 - Train Loss: 1.0300 - Vali Loss: 1.0664\n"
     ]
    },
    {
     "name": "stderr",
     "output_type": "stream",
     "text": [
      "  0%|          | 0/5 [00:00<?, ?it/s]"
     ]
    },
    {
     "name": "stdout",
     "output_type": "stream",
     "text": [
      "Inputs shape: torch.Size([16, 100, 64]), Labels shape: torch.Size([16, 6])\n",
      "torch.Size([16, 100, 64])\n",
      "torch.Size([1, 16, 128])\n",
      "Outputs Shape: torch.Size([16, 6]), Labels Shape: torch.Size([16, 6])\n",
      "Inputs shape: torch.Size([16, 100, 64]), Labels shape: torch.Size([16, 6])\n",
      "torch.Size([16, 100, 64])\n",
      "torch.Size([1, 16, 128])\n"
     ]
    },
    {
     "name": "stderr",
     "output_type": "stream",
     "text": [
      " 40%|████      | 2/5 [00:00<00:00, 12.36it/s]"
     ]
    },
    {
     "name": "stdout",
     "output_type": "stream",
     "text": [
      "Outputs Shape: torch.Size([16, 6]), Labels Shape: torch.Size([16, 6])\n",
      "Inputs shape: torch.Size([16, 100, 64]), Labels shape: torch.Size([16, 6])\n",
      "torch.Size([16, 100, 64])\n",
      "torch.Size([1, 16, 128])\n",
      "Outputs Shape: torch.Size([16, 6]), Labels Shape: torch.Size([16, 6])\n",
      "Inputs shape: torch.Size([16, 100, 64]), Labels shape: torch.Size([16, 6])\n",
      "torch.Size([16, 100, 64])\n",
      "torch.Size([1, 16, 128])\n",
      "Outputs Shape: torch.Size([16, 6]), Labels Shape: torch.Size([16, 6])\n"
     ]
    },
    {
     "name": "stderr",
     "output_type": "stream",
     "text": [
      " 80%|████████  | 4/5 [00:00<00:00, 12.62it/s]"
     ]
    },
    {
     "name": "stdout",
     "output_type": "stream",
     "text": [
      "Inputs shape: torch.Size([16, 100, 64]), Labels shape: torch.Size([16, 6])\n",
      "torch.Size([16, 100, 64])\n",
      "torch.Size([1, 16, 128])\n",
      "Outputs Shape: torch.Size([16, 6]), Labels Shape: torch.Size([16, 6])\n"
     ]
    },
    {
     "name": "stderr",
     "output_type": "stream",
     "text": [
      "100%|██████████| 5/5 [00:00<00:00, 12.63it/s]\n",
      "100%|██████████| 1/1 [00:00<00:00, 35.49it/s]\n"
     ]
    },
    {
     "name": "stdout",
     "output_type": "stream",
     "text": [
      "torch.Size([10, 100, 64])\n",
      "torch.Size([1, 10, 128])\n",
      "Epoch 13/20 - Train Loss: 1.0300 - Vali Loss: 1.0664\n"
     ]
    },
    {
     "name": "stderr",
     "output_type": "stream",
     "text": [
      "  0%|          | 0/5 [00:00<?, ?it/s]"
     ]
    },
    {
     "name": "stdout",
     "output_type": "stream",
     "text": [
      "Inputs shape: torch.Size([16, 100, 64]), Labels shape: torch.Size([16, 6])\n",
      "torch.Size([16, 100, 64])\n",
      "torch.Size([1, 16, 128])\n",
      "Outputs Shape: torch.Size([16, 6]), Labels Shape: torch.Size([16, 6])\n",
      "Inputs shape: torch.Size([16, 100, 64]), Labels shape: torch.Size([16, 6])\n",
      "torch.Size([16, 100, 64])\n",
      "torch.Size([1, 16, 128])\n"
     ]
    },
    {
     "name": "stderr",
     "output_type": "stream",
     "text": [
      " 40%|████      | 2/5 [00:00<00:00, 13.15it/s]"
     ]
    },
    {
     "name": "stdout",
     "output_type": "stream",
     "text": [
      "Outputs Shape: torch.Size([16, 6]), Labels Shape: torch.Size([16, 6])\n",
      "Inputs shape: torch.Size([16, 100, 64]), Labels shape: torch.Size([16, 6])\n",
      "torch.Size([16, 100, 64])\n",
      "torch.Size([1, 16, 128])\n",
      "Outputs Shape: torch.Size([16, 6]), Labels Shape: torch.Size([16, 6])\n",
      "Inputs shape: torch.Size([16, 100, 64]), Labels shape: torch.Size([16, 6])\n",
      "torch.Size([16, 100, 64])\n",
      "torch.Size([1, 16, 128])\n"
     ]
    },
    {
     "name": "stderr",
     "output_type": "stream",
     "text": [
      " 80%|████████  | 4/5 [00:00<00:00, 13.07it/s]"
     ]
    },
    {
     "name": "stdout",
     "output_type": "stream",
     "text": [
      "Outputs Shape: torch.Size([16, 6]), Labels Shape: torch.Size([16, 6])\n",
      "Inputs shape: torch.Size([16, 100, 64]), Labels shape: torch.Size([16, 6])\n",
      "torch.Size([16, 100, 64])\n",
      "torch.Size([1, 16, 128])\n",
      "Outputs Shape: torch.Size([16, 6]), Labels Shape: torch.Size([16, 6])\n"
     ]
    },
    {
     "name": "stderr",
     "output_type": "stream",
     "text": [
      "100%|██████████| 5/5 [00:00<00:00, 12.99it/s]\n",
      "100%|██████████| 1/1 [00:00<00:00, 35.44it/s]\n"
     ]
    },
    {
     "name": "stdout",
     "output_type": "stream",
     "text": [
      "torch.Size([10, 100, 64])\n",
      "torch.Size([1, 10, 128])\n",
      "Epoch 14/20 - Train Loss: 1.0300 - Vali Loss: 1.0664\n"
     ]
    },
    {
     "name": "stderr",
     "output_type": "stream",
     "text": [
      "  0%|          | 0/5 [00:00<?, ?it/s]"
     ]
    },
    {
     "name": "stdout",
     "output_type": "stream",
     "text": [
      "Inputs shape: torch.Size([16, 100, 64]), Labels shape: torch.Size([16, 6])\n",
      "torch.Size([16, 100, 64])\n",
      "torch.Size([1, 16, 128])\n",
      "Outputs Shape: torch.Size([16, 6]), Labels Shape: torch.Size([16, 6])\n",
      "Inputs shape: torch.Size([16, 100, 64]), Labels shape: torch.Size([16, 6])\n",
      "torch.Size([16, 100, 64])\n",
      "torch.Size([1, 16, 128])\n",
      "Outputs Shape: torch.Size([16, 6]), Labels Shape: torch.Size([16, 6])\n"
     ]
    },
    {
     "name": "stderr",
     "output_type": "stream",
     "text": [
      " 40%|████      | 2/5 [00:00<00:00, 13.26it/s]"
     ]
    },
    {
     "name": "stdout",
     "output_type": "stream",
     "text": [
      "Inputs shape: torch.Size([16, 100, 64]), Labels shape: torch.Size([16, 6])\n",
      "torch.Size([16, 100, 64])\n",
      "torch.Size([1, 16, 128])\n",
      "Outputs Shape: torch.Size([16, 6]), Labels Shape: torch.Size([16, 6])\n",
      "Inputs shape: torch.Size([16, 100, 64]), Labels shape: torch.Size([16, 6])\n",
      "torch.Size([16, 100, 64])\n",
      "torch.Size([1, 16, 128])\n",
      "Outputs Shape: torch.Size([16, 6]), Labels Shape: torch.Size([16, 6])\n"
     ]
    },
    {
     "name": "stderr",
     "output_type": "stream",
     "text": [
      " 80%|████████  | 4/5 [00:00<00:00, 13.03it/s]"
     ]
    },
    {
     "name": "stdout",
     "output_type": "stream",
     "text": [
      "Inputs shape: torch.Size([16, 100, 64]), Labels shape: torch.Size([16, 6])\n",
      "torch.Size([16, 100, 64])\n",
      "torch.Size([1, 16, 128])\n",
      "Outputs Shape: torch.Size([16, 6]), Labels Shape: torch.Size([16, 6])\n"
     ]
    },
    {
     "name": "stderr",
     "output_type": "stream",
     "text": [
      "100%|██████████| 5/5 [00:00<00:00, 13.12it/s]\n",
      "100%|██████████| 1/1 [00:00<00:00, 34.34it/s]\n"
     ]
    },
    {
     "name": "stdout",
     "output_type": "stream",
     "text": [
      "torch.Size([10, 100, 64])\n",
      "torch.Size([1, 10, 128])\n",
      "Epoch 15/20 - Train Loss: 1.0300 - Vali Loss: 1.0664\n"
     ]
    },
    {
     "name": "stderr",
     "output_type": "stream",
     "text": [
      "  0%|          | 0/5 [00:00<?, ?it/s]"
     ]
    },
    {
     "name": "stdout",
     "output_type": "stream",
     "text": [
      "Inputs shape: torch.Size([16, 100, 64]), Labels shape: torch.Size([16, 6])\n",
      "torch.Size([16, 100, 64])\n",
      "torch.Size([1, 16, 128])\n",
      "Outputs Shape: torch.Size([16, 6]), Labels Shape: torch.Size([16, 6])\n",
      "Inputs shape: torch.Size([16, 100, 64]), Labels shape: torch.Size([16, 6])\n",
      "torch.Size([16, 100, 64])\n",
      "torch.Size([1, 16, 128])\n"
     ]
    },
    {
     "name": "stderr",
     "output_type": "stream",
     "text": [
      " 40%|████      | 2/5 [00:00<00:00, 13.02it/s]"
     ]
    },
    {
     "name": "stdout",
     "output_type": "stream",
     "text": [
      "Outputs Shape: torch.Size([16, 6]), Labels Shape: torch.Size([16, 6])\n",
      "Inputs shape: torch.Size([16, 100, 64]), Labels shape: torch.Size([16, 6])\n",
      "torch.Size([16, 100, 64])\n",
      "torch.Size([1, 16, 128])\n",
      "Outputs Shape: torch.Size([16, 6]), Labels Shape: torch.Size([16, 6])\n",
      "Inputs shape: torch.Size([16, 100, 64]), Labels shape: torch.Size([16, 6])\n",
      "torch.Size([16, 100, 64])\n",
      "torch.Size([1, 16, 128])\n",
      "Outputs Shape: torch.Size([16, 6]), Labels Shape: torch.Size([16, 6])\n"
     ]
    },
    {
     "name": "stderr",
     "output_type": "stream",
     "text": [
      " 80%|████████  | 4/5 [00:00<00:00, 13.09it/s]"
     ]
    },
    {
     "name": "stdout",
     "output_type": "stream",
     "text": [
      "Inputs shape: torch.Size([16, 100, 64]), Labels shape: torch.Size([16, 6])\n",
      "torch.Size([16, 100, 64])\n",
      "torch.Size([1, 16, 128])\n"
     ]
    },
    {
     "name": "stderr",
     "output_type": "stream",
     "text": [
      "100%|██████████| 5/5 [00:00<00:00, 13.05it/s]\n"
     ]
    },
    {
     "name": "stdout",
     "output_type": "stream",
     "text": [
      "Outputs Shape: torch.Size([16, 6]), Labels Shape: torch.Size([16, 6])\n"
     ]
    },
    {
     "name": "stderr",
     "output_type": "stream",
     "text": [
      "100%|██████████| 1/1 [00:00<00:00, 35.62it/s]\n"
     ]
    },
    {
     "name": "stdout",
     "output_type": "stream",
     "text": [
      "torch.Size([10, 100, 64])\n",
      "torch.Size([1, 10, 128])\n",
      "Epoch 16/20 - Train Loss: 1.0300 - Vali Loss: 1.0664\n"
     ]
    },
    {
     "name": "stderr",
     "output_type": "stream",
     "text": [
      "  0%|          | 0/5 [00:00<?, ?it/s]"
     ]
    },
    {
     "name": "stdout",
     "output_type": "stream",
     "text": [
      "Inputs shape: torch.Size([16, 100, 64]), Labels shape: torch.Size([16, 6])\n",
      "torch.Size([16, 100, 64])\n",
      "torch.Size([1, 16, 128])\n",
      "Outputs Shape: torch.Size([16, 6]), Labels Shape: torch.Size([16, 6])\n",
      "Inputs shape: torch.Size([16, 100, 64]), Labels shape: torch.Size([16, 6])\n",
      "torch.Size([16, 100, 64])\n",
      "torch.Size([1, 16, 128])\n",
      "Outputs Shape: torch.Size([16, 6]), Labels Shape: torch.Size([16, 6])\n"
     ]
    },
    {
     "name": "stderr",
     "output_type": "stream",
     "text": [
      " 40%|████      | 2/5 [00:00<00:00, 13.23it/s]"
     ]
    },
    {
     "name": "stdout",
     "output_type": "stream",
     "text": [
      "Inputs shape: torch.Size([16, 100, 64]), Labels shape: torch.Size([16, 6])\n",
      "torch.Size([16, 100, 64])\n",
      "torch.Size([1, 16, 128])\n",
      "Outputs Shape: torch.Size([16, 6]), Labels Shape: torch.Size([16, 6])\n",
      "Inputs shape: torch.Size([16, 100, 64]), Labels shape: torch.Size([16, 6])\n",
      "torch.Size([16, 100, 64])\n",
      "torch.Size([1, 16, 128])\n",
      "Outputs Shape: torch.Size([16, 6]), Labels Shape: torch.Size([16, 6])\n"
     ]
    },
    {
     "name": "stderr",
     "output_type": "stream",
     "text": [
      " 80%|████████  | 4/5 [00:00<00:00, 13.33it/s]"
     ]
    },
    {
     "name": "stdout",
     "output_type": "stream",
     "text": [
      "Inputs shape: torch.Size([16, 100, 64]), Labels shape: torch.Size([16, 6])\n",
      "torch.Size([16, 100, 64])\n",
      "torch.Size([1, 16, 128])\n",
      "Outputs Shape: torch.Size([16, 6]), Labels Shape: torch.Size([16, 6])\n"
     ]
    },
    {
     "name": "stderr",
     "output_type": "stream",
     "text": [
      "100%|██████████| 5/5 [00:00<00:00, 13.29it/s]\n",
      "  0%|          | 0/1 [00:00<?, ?it/s]"
     ]
    },
    {
     "name": "stdout",
     "output_type": "stream",
     "text": [
      "torch.Size([10, 100, 64])\n",
      "torch.Size([1, 10, 128])\n"
     ]
    },
    {
     "name": "stderr",
     "output_type": "stream",
     "text": [
      "100%|██████████| 1/1 [00:00<00:00, 34.70it/s]\n"
     ]
    },
    {
     "name": "stdout",
     "output_type": "stream",
     "text": [
      "Epoch 17/20 - Train Loss: 1.0300 - Vali Loss: 1.0664\n"
     ]
    },
    {
     "name": "stderr",
     "output_type": "stream",
     "text": [
      "  0%|          | 0/5 [00:00<?, ?it/s]"
     ]
    },
    {
     "name": "stdout",
     "output_type": "stream",
     "text": [
      "Inputs shape: torch.Size([16, 100, 64]), Labels shape: torch.Size([16, 6])\n",
      "torch.Size([16, 100, 64])\n",
      "torch.Size([1, 16, 128])\n",
      "Outputs Shape: torch.Size([16, 6]), Labels Shape: torch.Size([16, 6])\n",
      "Inputs shape: torch.Size([16, 100, 64]), Labels shape: torch.Size([16, 6])\n",
      "torch.Size([16, 100, 64])\n",
      "torch.Size([1, 16, 128])\n",
      "Outputs Shape: torch.Size([16, 6]), Labels Shape: torch.Size([16, 6])\n"
     ]
    },
    {
     "name": "stderr",
     "output_type": "stream",
     "text": [
      " 40%|████      | 2/5 [00:00<00:00, 13.32it/s]"
     ]
    },
    {
     "name": "stdout",
     "output_type": "stream",
     "text": [
      "Inputs shape: torch.Size([16, 100, 64]), Labels shape: torch.Size([16, 6])\n",
      "torch.Size([16, 100, 64])\n",
      "torch.Size([1, 16, 128])\n",
      "Outputs Shape: torch.Size([16, 6]), Labels Shape: torch.Size([16, 6])\n",
      "Inputs shape: torch.Size([16, 100, 64]), Labels shape: torch.Size([16, 6])\n",
      "torch.Size([16, 100, 64])\n",
      "torch.Size([1, 16, 128])\n",
      "Outputs Shape: torch.Size([16, 6]), Labels Shape: torch.Size([16, 6])\n"
     ]
    },
    {
     "name": "stderr",
     "output_type": "stream",
     "text": [
      " 80%|████████  | 4/5 [00:00<00:00, 13.30it/s]"
     ]
    },
    {
     "name": "stdout",
     "output_type": "stream",
     "text": [
      "Inputs shape: torch.Size([16, 100, 64]), Labels shape: torch.Size([16, 6])\n",
      "torch.Size([16, 100, 64])\n",
      "torch.Size([1, 16, 128])\n",
      "Outputs Shape: torch.Size([16, 6]), Labels Shape: torch.Size([16, 6])\n"
     ]
    },
    {
     "name": "stderr",
     "output_type": "stream",
     "text": [
      "100%|██████████| 5/5 [00:00<00:00, 13.14it/s]\n",
      "100%|██████████| 1/1 [00:00<00:00, 35.08it/s]\n"
     ]
    },
    {
     "name": "stdout",
     "output_type": "stream",
     "text": [
      "torch.Size([10, 100, 64])\n",
      "torch.Size([1, 10, 128])\n",
      "Epoch 18/20 - Train Loss: 1.0300 - Vali Loss: 1.0664\n"
     ]
    },
    {
     "name": "stderr",
     "output_type": "stream",
     "text": [
      "  0%|          | 0/5 [00:00<?, ?it/s]"
     ]
    },
    {
     "name": "stdout",
     "output_type": "stream",
     "text": [
      "Inputs shape: torch.Size([16, 100, 64]), Labels shape: torch.Size([16, 6])\n",
      "torch.Size([16, 100, 64])\n",
      "torch.Size([1, 16, 128])\n",
      "Outputs Shape: torch.Size([16, 6]), Labels Shape: torch.Size([16, 6])\n",
      "Inputs shape: torch.Size([16, 100, 64]), Labels shape: torch.Size([16, 6])\n",
      "torch.Size([16, 100, 64])\n",
      "torch.Size([1, 16, 128])\n",
      "Outputs Shape: torch.Size([16, 6]), Labels Shape: torch.Size([16, 6])\n"
     ]
    },
    {
     "name": "stderr",
     "output_type": "stream",
     "text": [
      " 40%|████      | 2/5 [00:00<00:00, 12.96it/s]"
     ]
    },
    {
     "name": "stdout",
     "output_type": "stream",
     "text": [
      "Inputs shape: torch.Size([16, 100, 64]), Labels shape: torch.Size([16, 6])\n",
      "torch.Size([16, 100, 64])\n",
      "torch.Size([1, 16, 128])\n",
      "Outputs Shape: torch.Size([16, 6]), Labels Shape: torch.Size([16, 6])\n",
      "Inputs shape: torch.Size([16, 100, 64]), Labels shape: torch.Size([16, 6])\n",
      "torch.Size([16, 100, 64])\n",
      "torch.Size([1, 16, 128])\n",
      "Outputs Shape: torch.Size([16, 6]), Labels Shape: torch.Size([16, 6])\n"
     ]
    },
    {
     "name": "stderr",
     "output_type": "stream",
     "text": [
      " 80%|████████  | 4/5 [00:00<00:00, 12.90it/s]"
     ]
    },
    {
     "name": "stdout",
     "output_type": "stream",
     "text": [
      "Inputs shape: torch.Size([16, 100, 64]), Labels shape: torch.Size([16, 6])\n",
      "torch.Size([16, 100, 64])\n",
      "torch.Size([1, 16, 128])\n",
      "Outputs Shape: torch.Size([16, 6]), Labels Shape: torch.Size([16, 6])\n"
     ]
    },
    {
     "name": "stderr",
     "output_type": "stream",
     "text": [
      "100%|██████████| 5/5 [00:00<00:00, 12.86it/s]\n",
      "100%|██████████| 1/1 [00:00<00:00, 32.84it/s]\n"
     ]
    },
    {
     "name": "stdout",
     "output_type": "stream",
     "text": [
      "torch.Size([10, 100, 64])\n",
      "torch.Size([1, 10, 128])\n",
      "Epoch 19/20 - Train Loss: 1.0300 - Vali Loss: 1.0664\n"
     ]
    },
    {
     "name": "stderr",
     "output_type": "stream",
     "text": [
      "  0%|          | 0/5 [00:00<?, ?it/s]"
     ]
    },
    {
     "name": "stdout",
     "output_type": "stream",
     "text": [
      "Inputs shape: torch.Size([16, 100, 64]), Labels shape: torch.Size([16, 6])\n",
      "torch.Size([16, 100, 64])\n",
      "torch.Size([1, 16, 128])\n",
      "Outputs Shape: torch.Size([16, 6]), Labels Shape: torch.Size([16, 6])\n",
      "Inputs shape: torch.Size([16, 100, 64]), Labels shape: torch.Size([16, 6])\n",
      "torch.Size([16, 100, 64])\n",
      "torch.Size([1, 16, 128])\n"
     ]
    },
    {
     "name": "stderr",
     "output_type": "stream",
     "text": [
      " 40%|████      | 2/5 [00:00<00:00, 13.02it/s]"
     ]
    },
    {
     "name": "stdout",
     "output_type": "stream",
     "text": [
      "Outputs Shape: torch.Size([16, 6]), Labels Shape: torch.Size([16, 6])\n",
      "Inputs shape: torch.Size([16, 100, 64]), Labels shape: torch.Size([16, 6])\n",
      "torch.Size([16, 100, 64])\n",
      "torch.Size([1, 16, 128])\n",
      "Outputs Shape: torch.Size([16, 6]), Labels Shape: torch.Size([16, 6])\n",
      "Inputs shape: torch.Size([16, 100, 64]), Labels shape: torch.Size([16, 6])\n"
     ]
    },
    {
     "name": "stderr",
     "output_type": "stream",
     "text": [
      " 80%|████████  | 4/5 [00:00<00:00, 13.10it/s]"
     ]
    },
    {
     "name": "stdout",
     "output_type": "stream",
     "text": [
      "torch.Size([16, 100, 64])\n",
      "torch.Size([1, 16, 128])\n",
      "Outputs Shape: torch.Size([16, 6]), Labels Shape: torch.Size([16, 6])\n",
      "Inputs shape: torch.Size([16, 100, 64]), Labels shape: torch.Size([16, 6])\n",
      "torch.Size([16, 100, 64])\n",
      "torch.Size([1, 16, 128])\n"
     ]
    },
    {
     "name": "stderr",
     "output_type": "stream",
     "text": [
      "100%|██████████| 5/5 [00:00<00:00, 13.03it/s]"
     ]
    },
    {
     "name": "stdout",
     "output_type": "stream",
     "text": [
      "Outputs Shape: torch.Size([16, 6]), Labels Shape: torch.Size([16, 6])\n"
     ]
    },
    {
     "name": "stderr",
     "output_type": "stream",
     "text": [
      "\n",
      "100%|██████████| 1/1 [00:00<00:00, 34.88it/s]"
     ]
    },
    {
     "name": "stdout",
     "output_type": "stream",
     "text": [
      "torch.Size([10, 100, 64])\n",
      "torch.Size([1, 10, 128])\n",
      "Epoch 20/20 - Train Loss: 1.0300 - Vali Loss: 1.0664\n"
     ]
    },
    {
     "name": "stderr",
     "output_type": "stream",
     "text": [
      "\n"
     ]
    }
   ],
   "source": [
    "train_loss_arr = []\n",
    "vali_loss_arr = []\n",
    "\n",
    "for epoch in range(epochs):\n",
    "    model.train()\n",
    "    total_train_loss = 0\n",
    "    total_vali_loss = 0\n",
    "    num_train_batches = 0\n",
    "    num_vali_batches = 0\n",
    "\n",
    "    for i, data in enumerate(tqdm(train_loader)):\n",
    "        inputs, labels = data\n",
    "        inputs, labels = inputs.to(device), labels.to(device)\n",
    "\n",
    "        print(f\"Inputs shape: {inputs.shape}, Labels shape: {labels.shape}\")\n",
    "\n",
    "        # Zero the parameter gradients\n",
    "        optimizer.zero_grad()\n",
    "\n",
    "        # Forward + backward + optimize\n",
    "        outputs = model(inputs)\n",
    "        print(f\"Outputs Shape: {outputs.shape}, Labels Shape: {labels.shape}\")\n",
    "        loss = criterion(outputs, labels)\n",
    "        loss.backward()\n",
    "        optimizer.step()\n",
    "\n",
    "        total_train_loss += loss.item()\n",
    "        num_train_batches += 1\n",
    "\n",
    "    avg_train_loss = total_train_loss / num_train_batches if num_train_batches > 0 else 0\n",
    "    train_loss_arr.append(avg_train_loss)\n",
    "\n",
    "    model.eval()\n",
    "    with torch.no_grad():\n",
    "        for i, data in enumerate(tqdm(vali_loader)):\n",
    "            inputs, labels = data\n",
    "            inputs, labels = inputs.to(device), labels.to(device)\n",
    "\n",
    "            outputs = model(inputs)\n",
    "            loss = criterion(outputs, labels)\n",
    "\n",
    "            total_vali_loss += loss.item()\n",
    "            num_vali_batches += 1\n",
    "\n",
    "    avg_vali_loss = total_vali_loss / num_vali_batches if num_vali_batches > 0 else 0\n",
    "    vali_loss_arr.append(avg_vali_loss)\n",
    "\n",
    "    print(f\"Epoch {epoch+1}/{epochs} - Train Loss: {avg_train_loss:.4f} - Vali Loss: {avg_vali_loss:.4f}\")"
   ]
  },
  {
   "cell_type": "code",
   "execution_count": 221,
   "metadata": {},
   "outputs": [
    {
     "data": {
      "image/png": "[encoded data removed]",
      "text/plain": [
       "<Figure size 640x480 with 1 Axes>"
      ]
     },
     "metadata": {},
     "output_type": "display_data"
    }
   ],
   "source": [
    "# plot the loss\n",
    "import matplotlib.pyplot as plt\n",
    "plt.plot(train_loss_arr, label=\"Train Loss\")\n",
    "plt.plot(vali_loss_arr, label=\"Vali Loss\")\n",
    "plt.legend()\n",
    "plt.show()"
   ]
  }
 ],
 "metadata": {
  "kernelspec": {
   "display_name": "apple_ml",
   "language": "python",
   "name": "python3"
  },
  "language_info": {
   "codemirror_mode": {
    "name": "ipython",
    "version": 3
   },
   "file_extension": ".py",
   "mimetype": "text/x-python",
   "name": "python",
   "nbconvert_exporter": "python",
   "pygments_lexer": "ipython3",
   "version": "3.9.19"
  }
 },
 "nbformat": 4,
 "nbformat_minor": 2
}
