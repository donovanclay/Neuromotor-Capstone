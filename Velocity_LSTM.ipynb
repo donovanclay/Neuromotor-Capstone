{
 "cells": [
  {
   "cell_type": "markdown",
   "metadata": {},
   "source": [
    "#### Random forest uses eeg to classify stride phase"
   ]
  },
  {
   "cell_type": "code",
   "execution_count": 1,
   "metadata": {},
   "outputs": [],
   "source": [
    "import numpy as np\n",
    "import xarray as xr\n",
    "import FFT_functions as fft_f\n",
    "from sklearn import preprocessing as prep \n",
    "from sklearn.model_selection import TimeSeriesSplit\n",
    "import torch.nn as nn\n",
    "import torch.optim as optim"
   ]
  },
  {
   "cell_type": "code",
   "execution_count": 2,
   "metadata": {},
   "outputs": [],
   "source": [
    "# Loading data for testing\n",
    "Windows_path='/mnt/c/Users/heather/Desktop/Neuromotor/Data4ML'\n",
    "eeg_path=Windows_path+'/EEG_ICA_filtered_10_components'\n",
    "velocity_path=Windows_path+'/Velocity'"
   ]
  },
  {
   "cell_type": "code",
   "execution_count": 3,
   "metadata": {},
   "outputs": [],
   "source": [
    "eeg_data=xr.load_dataset(eeg_path)\n",
    "eeg_=eeg_data.isel(Trial=0).copy()\n",
    "eeg=eeg_.__xarray_dataarray_variable__\n",
    "eeg=np.array(eeg.values)\n",
    "\n",
    "velocity_data=xr.load_dataset(velocity_path)\n",
    "vel_=velocity_data.isel(Trial=0).copy()\n",
    "velocity=vel_.__xarray_dataarray_variable__\n",
    "velocity=np.array(velocity.values)"
   ]
  },
  {
   "cell_type": "code",
   "execution_count": 4,
   "metadata": {},
   "outputs": [
    {
     "name": "stdout",
     "output_type": "stream",
     "text": [
      "False\n"
     ]
    }
   ],
   "source": [
    "\n",
    "print(np.isnan(velocity).any())\n"
   ]
  },
  {
   "cell_type": "code",
   "execution_count": 5,
   "metadata": {},
   "outputs": [],
   "source": [
    "def velocity_rescaler(data):\n",
    "    min_max_scaler = prep.MinMaxScaler() \n",
    "    for i in range(data.shape[1]):\n",
    "        channel=data[:,i]\n",
    "        data_2d = channel.reshape(-1, 1)\n",
    "        normalizedData = min_max_scaler.fit_transform(data_2d) \n",
    "        normalized_data = normalizedData.flatten()\n",
    "        data[:,i]=normalized_data\n",
    "    return data"
   ]
  },
  {
   "cell_type": "code",
   "execution_count": 6,
   "metadata": {},
   "outputs": [
    {
     "name": "stdout",
     "output_type": "stream",
     "text": [
      "1.0\n"
     ]
    }
   ],
   "source": [
    "velocity=velocity_rescaler(velocity)\n",
    "print(np.max(velocity))"
   ]
  },
  {
   "cell_type": "code",
   "execution_count": 7,
   "metadata": {},
   "outputs": [
    {
     "name": "stdout",
     "output_type": "stream",
     "text": [
      "(90000, 6)\n"
     ]
    }
   ],
   "source": [
    "print(velocity.shape)"
   ]
  },
  {
   "cell_type": "code",
   "execution_count": 8,
   "metadata": {},
   "outputs": [
    {
     "name": "stdout",
     "output_type": "stream",
     "text": [
      "n_samples:  90000\n",
      "n_features:  60\n",
      "n_windows:  8999\n",
      "len(eeg_windows):  8999\n",
      "len(joint_windows):  8999\n",
      "eeg_windows[0].shape (10, 60)\n",
      "joint_windows[0].shape (3, 6)\n"
     ]
    }
   ],
   "source": [
    "data,labels=fft_f.make_windows_with_fft(eeg,velocity,10,3,0,lowpass_cutoff=30,debug=True)"
   ]
  },
  {
   "cell_type": "code",
   "execution_count": 9,
   "metadata": {},
   "outputs": [
    {
     "name": "stdout",
     "output_type": "stream",
     "text": [
      "Split 0:\n",
      "x_train shape: (1504, 60, 10, 2), y_train shape: (1504, 6)\n",
      "x_test shape: (1499, 60, 10, 2), y_test shape: (1499, 6)\n",
      "-------------------------\n",
      "Split 1:\n",
      "x_train shape: (3003, 60, 10, 2), y_train shape: (3003, 6)\n",
      "x_test shape: (1499, 60, 10, 2), y_test shape: (1499, 6)\n",
      "-------------------------\n",
      "Split 2:\n",
      "x_train shape: (4502, 60, 10, 2), y_train shape: (4502, 6)\n",
      "x_test shape: (1499, 60, 10, 2), y_test shape: (1499, 6)\n",
      "-------------------------\n",
      "Split 3:\n",
      "x_train shape: (6001, 60, 10, 2), y_train shape: (6001, 6)\n",
      "x_test shape: (1499, 60, 10, 2), y_test shape: (1499, 6)\n",
      "-------------------------\n",
      "Split 4:\n",
      "x_train shape: (7500, 60, 10, 2), y_train shape: (7500, 6)\n",
      "x_test shape: (1499, 60, 10, 2), y_test shape: (1499, 6)\n",
      "-------------------------\n"
     ]
    }
   ],
   "source": [
    "batch_size = 1  \n",
    "dataloaders, train_ind, test_ind, train_data, test_data, train_lab, test_lab = fft_f.create_time_series_dataloaders(data, labels, batch_size)\n",
    "\n",
    "# Accessing the train and test data directly\n",
    "x_train_list, x_test_list = train_data, test_data\n",
    "y_train_list, y_test_list = train_lab, test_lab\n",
    "\n",
    "# Example to check shapes\n",
    "for i in range(len(x_train_list)):\n",
    "    print(f\"Split {i}:\")\n",
    "    print(f\"x_train shape: {np.array(x_train_list[i]).shape}, y_train shape: {np.array(y_train_list[i]).shape}\")\n",
    "    print(f\"x_test shape: {np.array(x_test_list[i]).shape}, y_test shape: {np.array(y_test_list[i]).shape}\")\n",
    "    print(\"-------------------------\")"
   ]
  },
  {
   "cell_type": "code",
   "execution_count": 10,
   "metadata": {},
   "outputs": [
    {
     "name": "stderr",
     "output_type": "stream",
     "text": [
      "/home/knockonhwood/.local/lib/python3.10/site-packages/torch/nn/modules/loss.py:535: UserWarning: Using a target size (torch.Size([6, 1])) that is different to the input size (torch.Size([1, 1])). This will likely lead to incorrect results due to broadcasting. Please ensure they have the same size.\n",
      "  return F.mse_loss(input, target, reduction=self.reduction)\n"
     ]
    },
    {
     "name": "stdout",
     "output_type": "stream",
     "text": [
      "Epoch [1/20], Loss: 0.0028\n"
     ]
    }
   ],
   "source": [
    "# Hyperparameters\n",
    "input_size = 2  \n",
    "hidden_size = 128\n",
    "num_layers = 2\n",
    "output_size = 1  \n",
    "num_epochs = 20\n",
    "learning_rate = 0.001\n",
    "\n",
    "# Initialize model, criterion, and optimizer\n",
    "model = fft_f.LSTM_model_maker(input_size, hidden_size, num_layers, output_size)\n",
    "criterion = nn.MSELoss()\n",
    "optimizer = optim.Adam(model.parameters(), lr=learning_rate)\n",
    "train_loader = dataloaders[0]\n",
    "\n",
    "# Train the model\n",
    "trained_lstm=fft_f.train_model(model, train_loader, num_epochs, criterion, optimizer)"
   ]
  }
 ],
 "metadata": {
  "kernelspec": {
   "display_name": "Python 3",
   "language": "python",
   "name": "python3"
  },
  "language_info": {
   "codemirror_mode": {
    "name": "ipython",
    "version": 3
   },
   "file_extension": ".py",
   "mimetype": "text/x-python",
   "name": "python",
   "nbconvert_exporter": "python",
   "pygments_lexer": "ipython3",
   "version": "3.10.12"
  }
 },
 "nbformat": 4,
 "nbformat_minor": 2
}
