v0.1 (04/11/24)
## NeuroMotor Project
import pandas as pd
import numpy as np
import scipy.signal as signal
import matplotlib.pyplot as plt

import scipy.signal as sig

# Data processing, modeling, and model evaluation
from sklearn.preprocessing import StandardScaler
from sklearn.decomposition import PCA
from sklearn.neighbors import KNeighborsClassifier
from sklearn.model_selection import train_test_split
from sklearn.metrics import f1_score, classification_report, ConfusionMatrixDisplay


path_all = '../RepositoryData'
plt.style.use('seaborn-v0_8-bright')

single_subject = path_all + '/SL01-T01'
sgl_subj_eeg = single_subject + '/eeg.txt'
# # check the path
# !ls -l $path_all
# the data we want from 2min to 17min with fs = 100Hz
t_walk_min = [2, 17]
t_first_5=[2,7]
t_first_ten=[2,12]
t_stand_min = [0, 2]
t_walkBCI_min = [17, 22]
t_stand_min_2 = [22, 24]

fs = 100

# Seperates into time periods for walking so that data scarcity can be simulated later
t_walk_data = {'t_start_walk': t_walk_min[0]*60*fs, 't_end_walk': t_walk_min[1]*60*fs}
t_walk_data5 = {'t_start_walk': t_first_5[0]*60*fs, 't_end_walk': t_first_5[1]*60*fs}
t_walk_data10 = {'t_start_walk': t_first_ten[0]*60*fs, 't_end_walk': t_first_ten[1]*60*fs}

# Data that probably wont be used but good to have handel for
t_stand_data = {'t_start_stand': t_stand_min[0]*60*fs, 't_end_stand': t_stand_min[1]*60*fs}
t_walkBCI_data = {'t_start_walkBCI': t_walkBCI_min[0]*60*fs, 't_end_walkBCI': t_walkBCI_min[1]*60*fs}
t_stand_data_2 = {'t_start_stand_2': t_stand_min_2[0]*60*fs, 't_end_stand_2': t_stand_min_2[1]*60*fs}

# all non-BCI data (probably wont be used)
t_useful_data = {'t_start_useful_1': t_stand_data['t_end_stand'], 't_end_useful_1': t_walk_data['t_start_walk'], 't_start_useful_2': t_stand_data_2['t_end_stand_2']}
# Load the data
eeg = pd.read_csv(sgl_subj_eeg, sep='\t', on_bad_lines='warn', skiprows=1, header=None)
eeg.dropna(axis=1, how='all', inplace=True)
# first column is the time in seconds
time = eeg.iloc[:, 0]
eeg = eeg.iloc[:, 1:]
# print(eeg.head(10))
# print(time.head(10))
# take df to numpy array

# drops unwanted sections
eeg_walk=eeg.drop(range(t_walk_data['t_start_walk']))
eeg_walk=eeg_walk.drop(range(t_walk_data['t_end_walk']-1, eeg_walk.index[-1]))
eeg_walk = eeg_walk.to_numpy()
perform_drop=len(eeg_walk)==t_walk_data['t_end_walk']- t_walk_data['t_start_walk']

# checks to make sure desired rows were dropped
if perform_drop:
    print('Drop successful')
else:
    print('Length of array is: ' + str(len(eeg_walk)))
    print(' but is supposed to be '+ str(t_walk_data['t_end_walk']- t_walk_data['t_start_walk']))

# For general checking of data:
eeg = eeg.to_numpy()
time = time.to_numpy()
print(eeg.shape, time.shape)

# print(time[0:100])
channel_1 = eeg[:, 1]
print(channel_1[0:10])
# print(time[1000:1010].shape, channel_1[1000:1010].shape)
print(time[0:10])

# print('Time interval: ', t_int_data)

# graph the first channel vs time with walking highlighted

# plot 64 channels in 8x8 grid, label the last 4 channels as EOG, and first 60 as EEG
def visualize_subject_eeg(eeg, time):
    fig, axs = plt.subplots(8, 8, figsize=(40, 40))
    for i in range(8):
        for j in range(8):
            axs[i, j].plot(time, eeg[:, i * 8 + j])
            if i == 7:
                axs[i, j].set_xlabel('Time (s)')
            if j == 0:
                axs[i, j].set_ylabel('Voltage')
            if i * 8 + j < 60:
                axs[i, j].set_title('EEG ' + str(i * 8 + j + 1))
            else:
                axs[i, j].set_title('EOG ' + str(i * 8 + j + 1))
    plt.tight_layout()
    plt.show()

visualize_subject_eeg(eeg, time)
def butter_lowpass(cutoff, fs, order=5):
    return sig.butter(order, cutoff, fs=fs, btype='low', analog=False)

def butter_lowpass_filter(data, cutoff, fs, order=5):
    b, a = butter_lowpass(cutoff, fs, order=order)
    y = sig.lfilter(b, a, data)
    return y
def lp(data, fc): # filter out all freq above 50 with 
    return butter_lowpass_filter(data=data, cutoff=fc, fs=100)

# y = lp(channel_1, 40)
figsize = (20, 20)

fig, axs = plt.subplots(5, 1, figsize=figsize)

for i in range (1, 6):
    index=i-1
    print(f"loop: {index}")
    y = eeg[:, 1]
    y_f = lp(y, i * 10) if i != 5 else lp(y, 49)
    axs[index].plot(time[1000:2000], y_f[1000:2000], alpha=.5, label=f"Filtered Signal with cutoff = {i*10} Hz")
    axs[index].plot(time[1000:2000], y[1000:2000], alpha=.5, label=f"Original Signal with cutoff = {i*10} Hz")
    axs[index].set_xlabel('Time (s)') if index == 5 else None
    axs[index].legend()

plt.tight_layout()
plt.show()
# use fourier transform to get the signal in frequency domain
def fourier_transform(data, fs):
    n = len(data)
    f = np.fft.fftfreq(n, 1/fs)
    y = np.fft.fft(data)
    return f, y

channel_1 = eeg[:, 1]

# filter the signal
channel_1_f = lp(channel_1, 40)
# get the fourier transform
f, y = fourier_transform(channel_1_f[1000:2000], 100)

plt.figure(figsize=(20, 5))
plt.plot(f, np.abs(y))
plt.title('Channel 1 Fourier Transform')
plt.xlabel('Frequency (Hz)')
plt.ylabel('Magnitude')
plt.show()
def visualize_subject_eeg_flt(eeg, time):

    eeg_f = lp_50(eeg)
    fig, axs = plt.subplots(8, 8, figsize=(40, 40))
    for i in range(8):
        for j in range(8):
            # axs[i, j].plot(time, eeg[:, i * 8 + j], label="o", alpha=.3)
            axs[i, j].plot(time, eeg_f[:, i * 8 + j], label="f", alpha=.3)
            if i == 7:
                axs[i, j].set_xlabel('Time (s)')
            if j == 0:
                axs[i, j].set_ylabel('Voltage')
            if i * 8 + j < 60:
                axs[i, j].set_title('EEG ' + str(i * 8 + j + 1))
            else:
                axs[i, j].set_title('EOG ' + str(i * 8 + j + 1))
    plt.tight_layout()
    plt.legend()
    plt.show()

visualize_subject_eeg(eeg, time)
Implementing PCA:
# Start with normalizing the data with regard to independent variable
scaler = StandardScaler()
eeg = scaler.fit_transform(eeg)
# Loading dependent variable
sgl_joint_angl=single_subject+'/joints.txt'

# Remove the first 2 lines of the file using skiprows
j_angl = pd.read_csv(sgl_joint_angl, sep='\t', header=None ,names=list(range(14)), skiprows=2)
# processing data
j_angl.dropna(axis=1, how='all', inplace=True)
# first column is the time in seconds
j_time = j_angl.iloc[:, 0]
j_angl = j_angl.drop(0, axis=1)
j_angl = j_angl.drop(range(7,13), axis=1)
print(j_angl.head())

# selects sections we want from joint data
j_walk=j_angl.drop(range(t_walk_data['t_start_walk']))
j_walk=j_walk.drop(range(t_walk_data['t_end_walk']-1, j_walk.index[-1]))
j_walk = j_walk.to_numpy()
